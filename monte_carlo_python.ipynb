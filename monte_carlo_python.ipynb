{
 "cells": [
  {
   "cell_type": "code",
   "execution_count": 1,
   "metadata": {},
   "outputs": [],
   "source": [
    "import numpy as np\n",
    "import pandas as pd\n",
    "import matplotlib.pyplot as plt\n",
    "%matplotlib inline\n",
    "import datetime"
   ]
  },
  {
   "cell_type": "markdown",
   "metadata": {},
   "source": [
    "Załadowanie i wyświetlenie notowań spółek giełdowych"
   ]
  },
  {
   "cell_type": "code",
   "execution_count": 2,
   "metadata": {},
   "outputs": [
    {
     "data": {
      "text/html": [
       "<div>\n",
       "<style scoped>\n",
       "    .dataframe tbody tr th:only-of-type {\n",
       "        vertical-align: middle;\n",
       "    }\n",
       "\n",
       "    .dataframe tbody tr th {\n",
       "        vertical-align: top;\n",
       "    }\n",
       "\n",
       "    .dataframe thead th {\n",
       "        text-align: right;\n",
       "    }\n",
       "</style>\n",
       "<table border=\"1\" class=\"dataframe\">\n",
       "  <thead>\n",
       "    <tr style=\"text-align: right;\">\n",
       "      <th></th>\n",
       "      <th>MMM</th>\n",
       "      <th>T</th>\n",
       "      <th>ADBE</th>\n",
       "      <th>BAC</th>\n",
       "      <th>CVX</th>\n",
       "      <th>HLT</th>\n",
       "      <th>SBUX</th>\n",
       "    </tr>\n",
       "    <tr>\n",
       "      <th>Data</th>\n",
       "      <th></th>\n",
       "      <th></th>\n",
       "      <th></th>\n",
       "      <th></th>\n",
       "      <th></th>\n",
       "      <th></th>\n",
       "      <th></th>\n",
       "    </tr>\n",
       "  </thead>\n",
       "  <tbody>\n",
       "    <tr>\n",
       "      <th>2021-05-27</th>\n",
       "      <td>203.240005</td>\n",
       "      <td>22.439577</td>\n",
       "      <td>498.279999</td>\n",
       "      <td>42.549999</td>\n",
       "      <td>103.010002</td>\n",
       "      <td>126.269997</td>\n",
       "      <td>113.510002</td>\n",
       "    </tr>\n",
       "    <tr>\n",
       "      <th>2021-05-28</th>\n",
       "      <td>203.039993</td>\n",
       "      <td>22.228098</td>\n",
       "      <td>504.579987</td>\n",
       "      <td>42.389999</td>\n",
       "      <td>103.790001</td>\n",
       "      <td>125.269997</td>\n",
       "      <td>113.879997</td>\n",
       "    </tr>\n",
       "    <tr>\n",
       "      <th>2021-06-01</th>\n",
       "      <td>203.199997</td>\n",
       "      <td>22.145016</td>\n",
       "      <td>495.910004</td>\n",
       "      <td>42.919998</td>\n",
       "      <td>106.650002</td>\n",
       "      <td>126.610001</td>\n",
       "      <td>113.339996</td>\n",
       "    </tr>\n",
       "    <tr>\n",
       "      <th>2021-06-02</th>\n",
       "      <td>203.289993</td>\n",
       "      <td>22.364048</td>\n",
       "      <td>495.769989</td>\n",
       "      <td>42.939999</td>\n",
       "      <td>108.080002</td>\n",
       "      <td>125.169998</td>\n",
       "      <td>113.000000</td>\n",
       "    </tr>\n",
       "    <tr>\n",
       "      <th>2021-06-03</th>\n",
       "      <td>203.669998</td>\n",
       "      <td>22.077040</td>\n",
       "      <td>493.140015</td>\n",
       "      <td>43.250000</td>\n",
       "      <td>107.589996</td>\n",
       "      <td>123.129997</td>\n",
       "      <td>111.120003</td>\n",
       "    </tr>\n",
       "    <tr>\n",
       "      <th>...</th>\n",
       "      <td>...</td>\n",
       "      <td>...</td>\n",
       "      <td>...</td>\n",
       "      <td>...</td>\n",
       "      <td>...</td>\n",
       "      <td>...</td>\n",
       "      <td>...</td>\n",
       "    </tr>\n",
       "    <tr>\n",
       "      <th>2022-05-20</th>\n",
       "      <td>143.830002</td>\n",
       "      <td>21.165500</td>\n",
       "      <td>399.089996</td>\n",
       "      <td>33.860001</td>\n",
       "      <td>167.820007</td>\n",
       "      <td>130.279999</td>\n",
       "      <td>73.389999</td>\n",
       "    </tr>\n",
       "    <tr>\n",
       "      <th>2022-05-23</th>\n",
       "      <td>144.380005</td>\n",
       "      <td>20.740000</td>\n",
       "      <td>406.760010</td>\n",
       "      <td>35.869999</td>\n",
       "      <td>171.720001</td>\n",
       "      <td>132.350006</td>\n",
       "      <td>73.419998</td>\n",
       "    </tr>\n",
       "    <tr>\n",
       "      <th>2022-05-24</th>\n",
       "      <td>145.750000</td>\n",
       "      <td>21.160000</td>\n",
       "      <td>398.410004</td>\n",
       "      <td>35.650002</td>\n",
       "      <td>172.639999</td>\n",
       "      <td>128.279999</td>\n",
       "      <td>72.720001</td>\n",
       "    </tr>\n",
       "    <tr>\n",
       "      <th>2022-05-25</th>\n",
       "      <td>145.789993</td>\n",
       "      <td>21.299999</td>\n",
       "      <td>402.500000</td>\n",
       "      <td>35.840000</td>\n",
       "      <td>175.410004</td>\n",
       "      <td>131.740005</td>\n",
       "      <td>72.480003</td>\n",
       "    </tr>\n",
       "    <tr>\n",
       "      <th>2022-05-26</th>\n",
       "      <td>147.039993</td>\n",
       "      <td>21.320000</td>\n",
       "      <td>408.600006</td>\n",
       "      <td>36.669998</td>\n",
       "      <td>176.589996</td>\n",
       "      <td>138.470001</td>\n",
       "      <td>74.489998</td>\n",
       "    </tr>\n",
       "  </tbody>\n",
       "</table>\n",
       "<p>253 rows × 7 columns</p>\n",
       "</div>"
      ],
      "text/plain": [
       "                   MMM          T        ADBE        BAC         CVX  \\\n",
       "Data                                                                   \n",
       "2021-05-27  203.240005  22.439577  498.279999  42.549999  103.010002   \n",
       "2021-05-28  203.039993  22.228098  504.579987  42.389999  103.790001   \n",
       "2021-06-01  203.199997  22.145016  495.910004  42.919998  106.650002   \n",
       "2021-06-02  203.289993  22.364048  495.769989  42.939999  108.080002   \n",
       "2021-06-03  203.669998  22.077040  493.140015  43.250000  107.589996   \n",
       "...                ...        ...         ...        ...         ...   \n",
       "2022-05-20  143.830002  21.165500  399.089996  33.860001  167.820007   \n",
       "2022-05-23  144.380005  20.740000  406.760010  35.869999  171.720001   \n",
       "2022-05-24  145.750000  21.160000  398.410004  35.650002  172.639999   \n",
       "2022-05-25  145.789993  21.299999  402.500000  35.840000  175.410004   \n",
       "2022-05-26  147.039993  21.320000  408.600006  36.669998  176.589996   \n",
       "\n",
       "                   HLT        SBUX  \n",
       "Data                                \n",
       "2021-05-27  126.269997  113.510002  \n",
       "2021-05-28  125.269997  113.879997  \n",
       "2021-06-01  126.610001  113.339996  \n",
       "2021-06-02  125.169998  113.000000  \n",
       "2021-06-03  123.129997  111.120003  \n",
       "...                ...         ...  \n",
       "2022-05-20  130.279999   73.389999  \n",
       "2022-05-23  132.350006   73.419998  \n",
       "2022-05-24  128.279999   72.720001  \n",
       "2022-05-25  131.740005   72.480003  \n",
       "2022-05-26  138.470001   74.489998  \n",
       "\n",
       "[253 rows x 7 columns]"
      ]
     },
     "execution_count": 2,
     "metadata": {},
     "output_type": "execute_result"
    }
   ],
   "source": [
    "df = pd.read_excel(\"Notowania_spolek.xls\", index_col=\"Data\")\n",
    "df"
   ]
  },
  {
   "cell_type": "markdown",
   "metadata": {},
   "source": [
    "Tworzymy listę spółek"
   ]
  },
  {
   "cell_type": "code",
   "execution_count": 3,
   "metadata": {},
   "outputs": [],
   "source": [
    "stocks = ['MMM', \"T\", \"ABDE\", \"BAC\", \"CVX\", \"HLT\", \"SBUX\"]"
   ]
  },
  {
   "cell_type": "markdown",
   "metadata": {},
   "source": [
    "Liczymy zanualizowaną dzienną stopę zwrotu: Dzienna stopa zwrotu = (Cena zamknięcia D/Cena zamknięcia D-1) * 252"
   ]
  },
  {
   "cell_type": "code",
   "execution_count": 4,
   "metadata": {},
   "outputs": [
    {
     "data": {
      "text/html": [
       "<div>\n",
       "<style scoped>\n",
       "    .dataframe tbody tr th:only-of-type {\n",
       "        vertical-align: middle;\n",
       "    }\n",
       "\n",
       "    .dataframe tbody tr th {\n",
       "        vertical-align: top;\n",
       "    }\n",
       "\n",
       "    .dataframe thead th {\n",
       "        text-align: right;\n",
       "    }\n",
       "</style>\n",
       "<table border=\"1\" class=\"dataframe\">\n",
       "  <thead>\n",
       "    <tr style=\"text-align: right;\">\n",
       "      <th></th>\n",
       "      <th>MMM</th>\n",
       "      <th>T</th>\n",
       "      <th>ADBE</th>\n",
       "      <th>BAC</th>\n",
       "      <th>CVX</th>\n",
       "      <th>HLT</th>\n",
       "      <th>SBUX</th>\n",
       "    </tr>\n",
       "    <tr>\n",
       "      <th>Data</th>\n",
       "      <th></th>\n",
       "      <th></th>\n",
       "      <th></th>\n",
       "      <th></th>\n",
       "      <th></th>\n",
       "      <th></th>\n",
       "      <th></th>\n",
       "    </tr>\n",
       "  </thead>\n",
       "  <tbody>\n",
       "    <tr>\n",
       "      <th>2021-05-27</th>\n",
       "      <td>NaN</td>\n",
       "      <td>NaN</td>\n",
       "      <td>NaN</td>\n",
       "      <td>NaN</td>\n",
       "      <td>NaN</td>\n",
       "      <td>NaN</td>\n",
       "      <td>NaN</td>\n",
       "    </tr>\n",
       "    <tr>\n",
       "      <th>2021-05-28</th>\n",
       "      <td>-0.000984</td>\n",
       "      <td>-0.009424</td>\n",
       "      <td>0.012643</td>\n",
       "      <td>-0.003760</td>\n",
       "      <td>0.007572</td>\n",
       "      <td>-0.007920</td>\n",
       "      <td>0.003260</td>\n",
       "    </tr>\n",
       "    <tr>\n",
       "      <th>2021-06-01</th>\n",
       "      <td>0.000788</td>\n",
       "      <td>-0.003738</td>\n",
       "      <td>-0.017183</td>\n",
       "      <td>0.012503</td>\n",
       "      <td>0.027556</td>\n",
       "      <td>0.010697</td>\n",
       "      <td>-0.004742</td>\n",
       "    </tr>\n",
       "    <tr>\n",
       "      <th>2021-06-02</th>\n",
       "      <td>0.000443</td>\n",
       "      <td>0.009891</td>\n",
       "      <td>-0.000282</td>\n",
       "      <td>0.000466</td>\n",
       "      <td>0.013408</td>\n",
       "      <td>-0.011374</td>\n",
       "      <td>-0.003000</td>\n",
       "    </tr>\n",
       "    <tr>\n",
       "      <th>2021-06-03</th>\n",
       "      <td>0.001869</td>\n",
       "      <td>-0.012833</td>\n",
       "      <td>-0.005305</td>\n",
       "      <td>0.007219</td>\n",
       "      <td>-0.004534</td>\n",
       "      <td>-0.016298</td>\n",
       "      <td>-0.016637</td>\n",
       "    </tr>\n",
       "  </tbody>\n",
       "</table>\n",
       "</div>"
      ],
      "text/plain": [
       "                 MMM         T      ADBE       BAC       CVX       HLT  \\\n",
       "Data                                                                     \n",
       "2021-05-27       NaN       NaN       NaN       NaN       NaN       NaN   \n",
       "2021-05-28 -0.000984 -0.009424  0.012643 -0.003760  0.007572 -0.007920   \n",
       "2021-06-01  0.000788 -0.003738 -0.017183  0.012503  0.027556  0.010697   \n",
       "2021-06-02  0.000443  0.009891 -0.000282  0.000466  0.013408 -0.011374   \n",
       "2021-06-03  0.001869 -0.012833 -0.005305  0.007219 -0.004534 -0.016298   \n",
       "\n",
       "                SBUX  \n",
       "Data                  \n",
       "2021-05-27       NaN  \n",
       "2021-05-28  0.003260  \n",
       "2021-06-01 -0.004742  \n",
       "2021-06-02 -0.003000  \n",
       "2021-06-03 -0.016637  "
      ]
     },
     "execution_count": 4,
     "metadata": {},
     "output_type": "execute_result"
    }
   ],
   "source": [
    "returns = df.pct_change()\n",
    "returns.head()"
   ]
  },
  {
   "cell_type": "markdown",
   "metadata": {},
   "source": [
    "Wyświetlamy wykresy stóp zwrotu spółek"
   ]
  },
  {
   "cell_type": "code",
   "execution_count": 5,
   "metadata": {},
   "outputs": [
    {
     "data": {
      "text/plain": [
       "<Figure size 1080x360 with 0 Axes>"
      ]
     },
     "metadata": {},
     "output_type": "display_data"
    },
    {
     "data": {
      "image/png": "[encoded data removed]",
      "text/plain": [
       "<Figure size 432x288 with 1 Axes>"
      ]
     },
     "metadata": {
      "needs_background": "light"
     },
     "output_type": "display_data"
    }
   ],
   "source": [
    "plt.figure(figsize=(15,5))\n",
    "returns.plot()\n",
    "plt.title('S&P 500 Stocks Daily Closing Price')\n",
    "plt.xlabel('Date')\n",
    "plt.ylabel('Closing price')\n",
    "plt.show()"
   ]
  },
  {
   "cell_type": "markdown",
   "metadata": {},
   "source": [
    "Liczymy macierz kowariancji ze stóp zwrotów spółek"
   ]
  },
  {
   "cell_type": "code",
   "execution_count": 6,
   "metadata": {},
   "outputs": [
    {
     "data": {
      "text/html": [
       "<div>\n",
       "<style scoped>\n",
       "    .dataframe tbody tr th:only-of-type {\n",
       "        vertical-align: middle;\n",
       "    }\n",
       "\n",
       "    .dataframe tbody tr th {\n",
       "        vertical-align: top;\n",
       "    }\n",
       "\n",
       "    .dataframe thead th {\n",
       "        text-align: right;\n",
       "    }\n",
       "</style>\n",
       "<table border=\"1\" class=\"dataframe\">\n",
       "  <thead>\n",
       "    <tr style=\"text-align: right;\">\n",
       "      <th></th>\n",
       "      <th>MMM</th>\n",
       "      <th>T</th>\n",
       "      <th>ADBE</th>\n",
       "      <th>BAC</th>\n",
       "      <th>CVX</th>\n",
       "      <th>HLT</th>\n",
       "      <th>SBUX</th>\n",
       "    </tr>\n",
       "  </thead>\n",
       "  <tbody>\n",
       "    <tr>\n",
       "      <th>MMM</th>\n",
       "      <td>0.000164</td>\n",
       "      <td>0.000063</td>\n",
       "      <td>6.276985e-05</td>\n",
       "      <td>0.000110</td>\n",
       "      <td>6.440209e-05</td>\n",
       "      <td>0.000064</td>\n",
       "      <td>0.000095</td>\n",
       "    </tr>\n",
       "    <tr>\n",
       "      <th>T</th>\n",
       "      <td>0.000063</td>\n",
       "      <td>0.000234</td>\n",
       "      <td>-1.429148e-05</td>\n",
       "      <td>0.000074</td>\n",
       "      <td>3.967268e-05</td>\n",
       "      <td>0.000049</td>\n",
       "      <td>0.000063</td>\n",
       "    </tr>\n",
       "    <tr>\n",
       "      <th>ADBE</th>\n",
       "      <td>0.000063</td>\n",
       "      <td>-0.000014</td>\n",
       "      <td>5.422307e-04</td>\n",
       "      <td>0.000093</td>\n",
       "      <td>5.970567e-07</td>\n",
       "      <td>0.000183</td>\n",
       "      <td>0.000219</td>\n",
       "    </tr>\n",
       "    <tr>\n",
       "      <th>BAC</th>\n",
       "      <td>0.000110</td>\n",
       "      <td>0.000074</td>\n",
       "      <td>9.292668e-05</td>\n",
       "      <td>0.000337</td>\n",
       "      <td>1.235600e-04</td>\n",
       "      <td>0.000200</td>\n",
       "      <td>0.000138</td>\n",
       "    </tr>\n",
       "    <tr>\n",
       "      <th>CVX</th>\n",
       "      <td>0.000064</td>\n",
       "      <td>0.000040</td>\n",
       "      <td>5.970567e-07</td>\n",
       "      <td>0.000124</td>\n",
       "      <td>2.859072e-04</td>\n",
       "      <td>0.000096</td>\n",
       "      <td>0.000040</td>\n",
       "    </tr>\n",
       "  </tbody>\n",
       "</table>\n",
       "</div>"
      ],
      "text/plain": [
       "           MMM         T          ADBE       BAC           CVX       HLT  \\\n",
       "MMM   0.000164  0.000063  6.276985e-05  0.000110  6.440209e-05  0.000064   \n",
       "T     0.000063  0.000234 -1.429148e-05  0.000074  3.967268e-05  0.000049   \n",
       "ADBE  0.000063 -0.000014  5.422307e-04  0.000093  5.970567e-07  0.000183   \n",
       "BAC   0.000110  0.000074  9.292668e-05  0.000337  1.235600e-04  0.000200   \n",
       "CVX   0.000064  0.000040  5.970567e-07  0.000124  2.859072e-04  0.000096   \n",
       "\n",
       "          SBUX  \n",
       "MMM   0.000095  \n",
       "T     0.000063  \n",
       "ADBE  0.000219  \n",
       "BAC   0.000138  \n",
       "CVX   0.000040  "
      ]
     },
     "execution_count": 6,
     "metadata": {},
     "output_type": "execute_result"
    }
   ],
   "source": [
    "cov = returns.cov()\n",
    "cov.head()"
   ]
  },
  {
   "cell_type": "markdown",
   "metadata": {},
   "source": [
    "Ponieważ próbujemy zoptymalizować portfel przez zmianę alokacji wag, zainicjalizujmy nasze wagi i obliczmy początkowe metryki za pomocą poniższej funkcji. Wagi muszą pochodzić z rozkładu równomiernego od 0 do 1 (ponieważ wagi oznaczają udziały procentowe) dlatego korzystamy z rozkładu jednostajnego w przedziale (0,1)"
   ]
  },
  {
   "cell_type": "code",
   "execution_count": null,
   "metadata": {},
   "outputs": [],
   "source": [
    "len(stocks)"
   ]
  },
  {
   "cell_type": "code",
   "execution_count": 7,
   "metadata": {},
   "outputs": [
    {
     "data": {
      "text/plain": [
       "array([0.24914333, 0.00670306, 0.20467393, 0.24187022, 0.16102213,\n",
       "       0.07261129, 0.06397604])"
      ]
     },
     "execution_count": 7,
     "metadata": {},
     "output_type": "execute_result"
    }
   ],
   "source": [
    "np.random.seed(10) \n",
    "weights = np.random.random(len(stocks))\n",
    "weights = weights/np.sum(weights)\n",
    "weights"
   ]
  },
  {
   "cell_type": "markdown",
   "metadata": {},
   "source": [
    "Liczymy stopę zwrotu z portfela"
   ]
  },
  {
   "cell_type": "code",
   "execution_count": 8,
   "metadata": {},
   "outputs": [
    {
     "data": {
      "text/plain": [
       "-0.04812892802771309"
      ]
     },
     "execution_count": 8,
     "metadata": {},
     "output_type": "execute_result"
    }
   ],
   "source": [
    "portfolio_returns = (returns.mean()*252)@weights \n",
    "portfolio_returns"
   ]
  },
  {
   "cell_type": "markdown",
   "metadata": {},
   "source": [
    "Liczymy wariancję portfela jako iloczyn wag i kowariancji pomnożonej przez 252"
   ]
  },
  {
   "cell_type": "code",
   "execution_count": 9,
   "metadata": {},
   "outputs": [
    {
     "data": {
      "text/plain": [
       "0.03558116877321658"
      ]
     },
     "execution_count": 9,
     "metadata": {},
     "output_type": "execute_result"
    }
   ],
   "source": [
    "portfolio_variance = weights@(cov*252)@weights \n",
    "portfolio_variance"
   ]
  },
  {
   "cell_type": "markdown",
   "metadata": {},
   "source": [
    "Liczymy wskaźnik Sharpe'a portfela z wykorzystaniem średniej zanualizowanej stopy zwrotu oraz wariancji portfela"
   ]
  },
  {
   "cell_type": "markdown",
   "metadata": {},
   "source": [
    "Tworzymy nową ramkę danych, do której wstawiamy obliczone charakterystyki portfela"
   ]
  },
  {
   "cell_type": "code",
   "execution_count": 10,
   "metadata": {},
   "outputs": [],
   "source": [
    "def portfolio_metrics(weights, index='Trial'):\n",
    "    rf = 0.03\n",
    "    rp = (returns.mean()*252)@weights \n",
    "    port_var = weights@(cov*252)@weights\n",
    "    sharpe = (rp-rf)/np.sqrt(port_var)\n",
    "    df = pd.DataFrame({\"Oczekiwany zwrot\": rp,\n",
    "                       \"Wariancja portfela\":port_var,\n",
    "                       'Odchylenie standardowe portfela': np.sqrt(port_var),\n",
    "                       'Wskaźnik Sharpa': sharpe}, index=[index])\n",
    "    return df"
   ]
  },
  {
   "cell_type": "code",
   "execution_count": 11,
   "metadata": {},
   "outputs": [
    {
     "data": {
      "text/plain": [
       "array([0.76053071, 0.16911084, 0.08833981, 0.68535982, 0.95339335,\n",
       "       0.00394827, 0.51219226])"
      ]
     },
     "execution_count": 11,
     "metadata": {},
     "output_type": "execute_result"
    }
   ],
   "source": [
    "weights = np.random.random(len(stocks))\n",
    "weights"
   ]
  },
  {
   "cell_type": "markdown",
   "metadata": {},
   "source": [
    "Za pomocą symulacji Monte Carlo generujemy 10 000 portfeli inwestycyjnych"
   ]
  },
  {
   "cell_type": "code",
   "execution_count": 15,
   "metadata": {},
   "outputs": [
    {
     "data": {
      "text/html": [
       "<div>\n",
       "<style scoped>\n",
       "    .dataframe tbody tr th:only-of-type {\n",
       "        vertical-align: middle;\n",
       "    }\n",
       "\n",
       "    .dataframe tbody tr th {\n",
       "        vertical-align: top;\n",
       "    }\n",
       "\n",
       "    .dataframe thead th {\n",
       "        text-align: right;\n",
       "    }\n",
       "</style>\n",
       "<table border=\"1\" class=\"dataframe\">\n",
       "  <thead>\n",
       "    <tr style=\"text-align: right;\">\n",
       "      <th></th>\n",
       "      <th>MMM</th>\n",
       "      <th>T</th>\n",
       "      <th>ABDE</th>\n",
       "      <th>BAC</th>\n",
       "      <th>CVX</th>\n",
       "      <th>HLT</th>\n",
       "      <th>SBUX</th>\n",
       "      <th>Oczekiwany zwrot</th>\n",
       "      <th>Wariancja portfela</th>\n",
       "      <th>Odchylenie standardowe portfela</th>\n",
       "      <th>Wskaźnik Sharpa</th>\n",
       "    </tr>\n",
       "  </thead>\n",
       "  <tbody>\n",
       "    <tr>\n",
       "      <th>0</th>\n",
       "      <td>0.123774</td>\n",
       "      <td>0.314181</td>\n",
       "      <td>0.241901</td>\n",
       "      <td>0.197838</td>\n",
       "      <td>0.051559</td>\n",
       "      <td>0.051551</td>\n",
       "      <td>0.019195</td>\n",
       "      <td>-0.066416</td>\n",
       "      <td>0.031147</td>\n",
       "      <td>0.176486</td>\n",
       "      <td>-0.546308</td>\n",
       "    </tr>\n",
       "    <tr>\n",
       "      <th>1</th>\n",
       "      <td>0.205711</td>\n",
       "      <td>0.142761</td>\n",
       "      <td>0.168163</td>\n",
       "      <td>0.004889</td>\n",
       "      <td>0.230347</td>\n",
       "      <td>0.1977</td>\n",
       "      <td>0.050429</td>\n",
       "      <td>0.056</td>\n",
       "      <td>0.030158</td>\n",
       "      <td>0.173661</td>\n",
       "      <td>0.149714</td>\n",
       "    </tr>\n",
       "    <tr>\n",
       "      <th>2</th>\n",
       "      <td>0.071889</td>\n",
       "      <td>0.072513</td>\n",
       "      <td>0.120289</td>\n",
       "      <td>0.207475</td>\n",
       "      <td>0.17078</td>\n",
       "      <td>0.115144</td>\n",
       "      <td>0.24191</td>\n",
       "      <td>-0.036053</td>\n",
       "      <td>0.037974</td>\n",
       "      <td>0.19487</td>\n",
       "      <td>-0.33896</td>\n",
       "    </tr>\n",
       "    <tr>\n",
       "      <th>3</th>\n",
       "      <td>0.050667</td>\n",
       "      <td>0.106113</td>\n",
       "      <td>0.13307</td>\n",
       "      <td>0.165654</td>\n",
       "      <td>0.285191</td>\n",
       "      <td>0.072525</td>\n",
       "      <td>0.18678</td>\n",
       "      <td>0.052512</td>\n",
       "      <td>0.033549</td>\n",
       "      <td>0.183163</td>\n",
       "      <td>0.122906</td>\n",
       "    </tr>\n",
       "    <tr>\n",
       "      <th>4</th>\n",
       "      <td>0.174419</td>\n",
       "      <td>0.013676</td>\n",
       "      <td>0.178874</td>\n",
       "      <td>0.050206</td>\n",
       "      <td>0.019153</td>\n",
       "      <td>0.279371</td>\n",
       "      <td>0.284302</td>\n",
       "      <td>-0.134876</td>\n",
       "      <td>0.050371</td>\n",
       "      <td>0.224435</td>\n",
       "      <td>-0.734627</td>\n",
       "    </tr>\n",
       "    <tr>\n",
       "      <th>...</th>\n",
       "      <td>...</td>\n",
       "      <td>...</td>\n",
       "      <td>...</td>\n",
       "      <td>...</td>\n",
       "      <td>...</td>\n",
       "      <td>...</td>\n",
       "      <td>...</td>\n",
       "      <td>...</td>\n",
       "      <td>...</td>\n",
       "      <td>...</td>\n",
       "      <td>...</td>\n",
       "    </tr>\n",
       "    <tr>\n",
       "      <th>9995</th>\n",
       "      <td>0.135321</td>\n",
       "      <td>0.193182</td>\n",
       "      <td>0.20479</td>\n",
       "      <td>0.243823</td>\n",
       "      <td>0.030629</td>\n",
       "      <td>0.04872</td>\n",
       "      <td>0.143534</td>\n",
       "      <td>-0.126527</td>\n",
       "      <td>0.03499</td>\n",
       "      <td>0.187055</td>\n",
       "      <td>-0.836798</td>\n",
       "    </tr>\n",
       "    <tr>\n",
       "      <th>9996</th>\n",
       "      <td>0.033952</td>\n",
       "      <td>0.024305</td>\n",
       "      <td>0.174665</td>\n",
       "      <td>0.189967</td>\n",
       "      <td>0.221078</td>\n",
       "      <td>0.240042</td>\n",
       "      <td>0.115991</td>\n",
       "      <td>0.066546</td>\n",
       "      <td>0.043182</td>\n",
       "      <td>0.207802</td>\n",
       "      <td>0.175872</td>\n",
       "    </tr>\n",
       "    <tr>\n",
       "      <th>9997</th>\n",
       "      <td>0.239304</td>\n",
       "      <td>0.009253</td>\n",
       "      <td>0.212502</td>\n",
       "      <td>0.078511</td>\n",
       "      <td>0.225101</td>\n",
       "      <td>0.054364</td>\n",
       "      <td>0.180965</td>\n",
       "      <td>-0.038656</td>\n",
       "      <td>0.034219</td>\n",
       "      <td>0.184985</td>\n",
       "      <td>-0.371143</td>\n",
       "    </tr>\n",
       "    <tr>\n",
       "      <th>9998</th>\n",
       "      <td>0.180899</td>\n",
       "      <td>0.162194</td>\n",
       "      <td>0.025264</td>\n",
       "      <td>0.300144</td>\n",
       "      <td>0.074558</td>\n",
       "      <td>0.196859</td>\n",
       "      <td>0.060082</td>\n",
       "      <td>-0.043273</td>\n",
       "      <td>0.036999</td>\n",
       "      <td>0.192351</td>\n",
       "      <td>-0.380936</td>\n",
       "    </tr>\n",
       "    <tr>\n",
       "      <th>9999</th>\n",
       "      <td>0.168045</td>\n",
       "      <td>0.064235</td>\n",
       "      <td>0.165242</td>\n",
       "      <td>0.263159</td>\n",
       "      <td>0.256016</td>\n",
       "      <td>0.055729</td>\n",
       "      <td>0.027574</td>\n",
       "      <td>0.043785</td>\n",
       "      <td>0.033387</td>\n",
       "      <td>0.182721</td>\n",
       "      <td>0.075441</td>\n",
       "    </tr>\n",
       "  </tbody>\n",
       "</table>\n",
       "<p>10000 rows × 11 columns</p>\n",
       "</div>"
      ],
      "text/plain": [
       "           MMM         T      ABDE       BAC       CVX       HLT      SBUX  \\\n",
       "0     0.123774  0.314181  0.241901  0.197838  0.051559  0.051551  0.019195   \n",
       "1     0.205711  0.142761  0.168163  0.004889  0.230347    0.1977  0.050429   \n",
       "2     0.071889  0.072513  0.120289  0.207475   0.17078  0.115144   0.24191   \n",
       "3     0.050667  0.106113   0.13307  0.165654  0.285191  0.072525   0.18678   \n",
       "4     0.174419  0.013676  0.178874  0.050206  0.019153  0.279371  0.284302   \n",
       "...        ...       ...       ...       ...       ...       ...       ...   \n",
       "9995  0.135321  0.193182   0.20479  0.243823  0.030629   0.04872  0.143534   \n",
       "9996  0.033952  0.024305  0.174665  0.189967  0.221078  0.240042  0.115991   \n",
       "9997  0.239304  0.009253  0.212502  0.078511  0.225101  0.054364  0.180965   \n",
       "9998  0.180899  0.162194  0.025264  0.300144  0.074558  0.196859  0.060082   \n",
       "9999  0.168045  0.064235  0.165242  0.263159  0.256016  0.055729  0.027574   \n",
       "\n",
       "     Oczekiwany zwrot Wariancja portfela Odchylenie standardowe portfela  \\\n",
       "0           -0.066416           0.031147                        0.176486   \n",
       "1               0.056           0.030158                        0.173661   \n",
       "2           -0.036053           0.037974                         0.19487   \n",
       "3            0.052512           0.033549                        0.183163   \n",
       "4           -0.134876           0.050371                        0.224435   \n",
       "...               ...                ...                             ...   \n",
       "9995        -0.126527            0.03499                        0.187055   \n",
       "9996         0.066546           0.043182                        0.207802   \n",
       "9997        -0.038656           0.034219                        0.184985   \n",
       "9998        -0.043273           0.036999                        0.192351   \n",
       "9999         0.043785           0.033387                        0.182721   \n",
       "\n",
       "     Wskaźnik Sharpa  \n",
       "0          -0.546308  \n",
       "1           0.149714  \n",
       "2           -0.33896  \n",
       "3           0.122906  \n",
       "4          -0.734627  \n",
       "...              ...  \n",
       "9995       -0.836798  \n",
       "9996        0.175872  \n",
       "9997       -0.371143  \n",
       "9998       -0.380936  \n",
       "9999        0.075441  \n",
       "\n",
       "[10000 rows x 11 columns]"
      ]
     },
     "execution_count": 15,
     "metadata": {},
     "output_type": "execute_result"
    }
   ],
   "source": [
    "np.random.seed(42)\n",
    "\n",
    "portfolios = pd.DataFrame(columns=[*stocks, \"Oczekiwany zwrot\",\"Wariancja portfela\", \"Odchylenie standardowe portfela\", \"Wskaźnik Sharpa\"])\n",
    "\n",
    "for i in range(10000):\n",
    "    weights = np.random.random(len(stocks))\n",
    "    weights = weights/np.sum(weights)\n",
    "    portfolios.loc[i, stocks] = weights\n",
    "    metrics = portfolio_metrics(weights,i)\n",
    "    portfolios.loc[i, [\"Oczekiwany zwrot\",\"Wariancja portfela\", \"Odchylenie standardowe portfela\", \"Wskaźnik Sharpa\"]] = \\\n",
    "    metrics.loc[i,[\"Oczekiwany zwrot\",\"Wariancja portfela\", \"Odchylenie standardowe portfela\", \"Wskaźnik Sharpa\"]]\n",
    "    \n",
    "portfolios"
   ]
  },
  {
   "cell_type": "markdown",
   "metadata": {},
   "source": [
    "Znajdujemy portfel o najwyższym wskaźniku Sharpe'a"
   ]
  },
  {
   "cell_type": "code",
   "execution_count": 16,
   "metadata": {},
   "outputs": [
    {
     "data": {
      "text/html": [
       "<div>\n",
       "<style scoped>\n",
       "    .dataframe tbody tr th:only-of-type {\n",
       "        vertical-align: middle;\n",
       "    }\n",
       "\n",
       "    .dataframe tbody tr th {\n",
       "        vertical-align: top;\n",
       "    }\n",
       "\n",
       "    .dataframe thead th {\n",
       "        text-align: right;\n",
       "    }\n",
       "</style>\n",
       "<table border=\"1\" class=\"dataframe\">\n",
       "  <thead>\n",
       "    <tr style=\"text-align: right;\">\n",
       "      <th></th>\n",
       "      <th>MMM</th>\n",
       "      <th>T</th>\n",
       "      <th>ABDE</th>\n",
       "      <th>BAC</th>\n",
       "      <th>CVX</th>\n",
       "      <th>HLT</th>\n",
       "      <th>SBUX</th>\n",
       "      <th>Oczekiwany zwrot</th>\n",
       "      <th>Wariancja portfela</th>\n",
       "      <th>Odchylenie standardowe portfela</th>\n",
       "      <th>Wskaźnik Sharpa</th>\n",
       "    </tr>\n",
       "  </thead>\n",
       "  <tbody>\n",
       "    <tr>\n",
       "      <th>6554</th>\n",
       "      <td>0.142538</td>\n",
       "      <td>0.052112</td>\n",
       "      <td>0.01697</td>\n",
       "      <td>0.06837</td>\n",
       "      <td>0.479835</td>\n",
       "      <td>0.222445</td>\n",
       "      <td>0.017729</td>\n",
       "      <td>0.249559</td>\n",
       "      <td>0.039001</td>\n",
       "      <td>0.197486</td>\n",
       "      <td>1.111771</td>\n",
       "    </tr>\n",
       "  </tbody>\n",
       "</table>\n",
       "</div>"
      ],
      "text/plain": [
       "           MMM         T     ABDE      BAC       CVX       HLT      SBUX  \\\n",
       "6554  0.142538  0.052112  0.01697  0.06837  0.479835  0.222445  0.017729   \n",
       "\n",
       "     Oczekiwany zwrot Wariancja portfela Odchylenie standardowe portfela  \\\n",
       "6554         0.249559           0.039001                        0.197486   \n",
       "\n",
       "     Wskaźnik Sharpa  \n",
       "6554        1.111771  "
      ]
     },
     "execution_count": 16,
     "metadata": {},
     "output_type": "execute_result"
    }
   ],
   "source": [
    "portfolios[portfolios[\"Wskaźnik Sharpa\"]==portfolios[\"Wskaźnik Sharpa\"].max()]"
   ]
  }
 ],
 "metadata": {
  "kernelspec": {
   "display_name": "Python 3.10.0 64-bit",
   "language": "python",
   "name": "python3"
  },
  "language_info": {
   "codemirror_mode": {
    "name": "ipython",
    "version": 3
   },
   "file_extension": ".py",
   "mimetype": "text/x-python",
   "name": "python",
   "nbconvert_exporter": "python",
   "pygments_lexer": "ipython3",
   "version": "3.10.0"
  },
  "vscode": {
   "interpreter": {
    "hash": "aee8b7b246df8f9039afb4144a1f6fd8d2ca17a180786b69acc140d282b71a49"
   }
  }
 },
 "nbformat": 4,
 "nbformat_minor": 4
}
